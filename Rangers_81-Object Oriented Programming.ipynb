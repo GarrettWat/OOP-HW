{
 "cells": [
  {
   "cell_type": "markdown",
   "metadata": {},
   "source": [
    "# Object-Oriented-Programming (OOP)"
   ]
  },
  {
   "cell_type": "markdown",
   "metadata": {},
   "source": [
    "## Tasks Today:\n",
    "\n",
    "   \n",
    "\n",
    "1) <b>Creating a Class (Initializing/Declaring)</b> <br>\n",
    "2) <b>Using a Class (Instantiating)</b> <br>\n",
    " &nbsp;&nbsp;&nbsp;&nbsp; a) Creating One Instance <br>\n",
    " &nbsp;&nbsp;&nbsp;&nbsp; b) Creating Multiple Instances <br>\n",
    " &nbsp;&nbsp;&nbsp;&nbsp; c) In-Class Exercise #1 - Create a Class 'Car' and instantiate three different makes of cars <br>\n",
    "3) <b>The \\__init\\__() Method</b> <br>\n",
    " &nbsp;&nbsp;&nbsp;&nbsp; a) The 'self' Attribute <br>\n",
    "4) <b>Class Attributes</b> <br>\n",
    " &nbsp;&nbsp;&nbsp;&nbsp; a) Initializing Attributes <br>\n",
    " &nbsp;&nbsp;&nbsp;&nbsp; b) Setting an Attribute Outside of the \\__init\\__() Method <br>\n",
    " &nbsp;&nbsp;&nbsp;&nbsp; c) Setting Defaults for Attributes <br>\n",
    " &nbsp;&nbsp;&nbsp;&nbsp; d) Accessing Class Attributes <br>\n",
    " &nbsp;&nbsp;&nbsp;&nbsp; e) Changing Class Attributes <br>\n",
    " &nbsp;&nbsp;&nbsp;&nbsp; f) In-Class Exercise #2 - Add a color and wheels attribute to your 'Car' class <br>\n",
    "5) <b>Class Methods</b> <br>\n",
    " &nbsp;&nbsp;&nbsp;&nbsp; a) Creating <br>\n",
    " &nbsp;&nbsp;&nbsp;&nbsp; b) Calling <br>\n",
    " &nbsp;&nbsp;&nbsp;&nbsp; c) Modifying an Attribute's Value Through a Method <br>\n",
    " &nbsp;&nbsp;&nbsp;&nbsp; d) Incrementing an Attribute's Value Through a Method <br>\n",
    " &nbsp;&nbsp;&nbsp;&nbsp; e) In-Class Exercise #3 - Add a method that prints the cars color and wheel number, then call them <br>\n",
    "6) <b>Inheritance</b> <br>\n",
    " &nbsp;&nbsp;&nbsp;&nbsp; a) Syntax for Inheriting from a Parent Class <br>\n",
    " &nbsp;&nbsp;&nbsp;&nbsp; b) The \\__init\\__() Method for a Child Class (super()) <br>\n",
    " &nbsp;&nbsp;&nbsp;&nbsp; c) Defining Attributes and Methods for the Child Class <br>\n",
    " &nbsp;&nbsp;&nbsp;&nbsp; d) Method Overriding <br>\n",
    " &nbsp;&nbsp;&nbsp;&nbsp; e) In-Class Exercise #4 - Create a class 'Ford' that inherits from 'Car' class and initialize it as a Blue Ford Explorer with 4 wheels using the super() method <br>\n",
    "7) <b>Classes as Attributes</b> <br>\n",
    "8) <b>Exercises</b> <br>\n",
    " &nbsp;&nbsp;&nbsp;&nbsp; a) Exercise #1 - Turn the shopping cart program from last week into an object-oriented program <br>"
   ]
  },
  {
   "cell_type": "markdown",
   "metadata": {},
   "source": [
    "## Creating a Class (Initializing/Declaring)\n",
    "<p>When creating a class, function, or even a variable you are initializing that object. Initializing and Declaring occur at the same time in Python, whereas in lower level languages you have to declare an object before initializing it. This is the first step in the process of using a class.</p>"
   ]
  },
  {
   "cell_type": "code",
   "execution_count": 1,
   "metadata": {},
   "outputs": [],
   "source": [
    "class Car():\n",
    "    wheels = 4\n",
    "    color = 'blue'"
   ]
  },
  {
   "cell_type": "markdown",
   "metadata": {},
   "source": [
    "## Using a Class (Instantiating)\n",
    "<p>The process of creating a class is called <i>Instantiating</i>. Each time you create a variable of that type of class, it is referred to as an <i>Instance</i> of that class. This is the second step in the process of using a class.</p>"
   ]
  },
  {
   "cell_type": "markdown",
   "metadata": {},
   "source": [
    "##### Creating One Instance"
   ]
  },
  {
   "cell_type": "code",
   "execution_count": 5,
   "metadata": {},
   "outputs": [],
   "source": [
    "ford = Car()\n"
   ]
  },
  {
   "cell_type": "markdown",
   "metadata": {},
   "source": [
    "##### Creating Multiple Instances"
   ]
  },
  {
   "cell_type": "code",
   "execution_count": 6,
   "metadata": {},
   "outputs": [
    {
     "name": "stdout",
     "output_type": "stream",
     "text": [
      "4\n",
      "4\n",
      "blue\n",
      "blue\n"
     ]
    }
   ],
   "source": [
    "mazda = Car()\n",
    "honda = Car()\n",
    "porsche = Car()\n",
    "\n",
    "print(mazda.wheels)\n",
    "print(honda.wheels)\n",
    "print(ford.color)\n",
    "print(porsche.color)"
   ]
  },
  {
   "cell_type": "markdown",
   "metadata": {},
   "source": [
    "##### In-Class Exercise #1 - Create a Class 'Car' and Instantiate three different makes of cars"
   ]
  },
  {
   "cell_type": "code",
   "execution_count": null,
   "metadata": {},
   "outputs": [],
   "source": [
    "class Bike():\n",
    "    wheels = 2\n",
    "    color = 'blue'\n",
    "yamaha = Bike()\n",
    "ducati = Bike()\n",
    "kawasaki = Bike()"
   ]
  },
  {
   "cell_type": "markdown",
   "metadata": {},
   "source": [
    "## The \\__init\\__() Method <br>\n",
    "<p>This method is used in almost every created class, and called only once upon the creation of the class instance. This method will initialize all variables needed for the object.</p>"
   ]
  },
  {
   "cell_type": "code",
   "execution_count": 9,
   "metadata": {},
   "outputs": [
    {
     "name": "stdout",
     "output_type": "stream",
     "text": [
      "Red\n",
      "4\n",
      "turqouise\n",
      "4\n"
     ]
    }
   ],
   "source": [
    "class Car():\n",
    "    ENGINE = '4.7L'\n",
    "    \n",
    "    def __init__(self, wheels, color):\n",
    "        self.wheels = wheels\n",
    "        self.color = color\n",
    "\n",
    "ford = Car(4, \"Red\")\n",
    "chevy_lumina = Car(4, \"turqouise\")\n",
    "\n",
    "print(ford.color)\n",
    "print(ford.wheels)\n",
    "print(chevy_lumina.color)\n",
    "print(chevy_lumina.wheels)"
   ]
  },
  {
   "cell_type": "code",
   "execution_count": 14,
   "metadata": {},
   "outputs": [
    {
     "name": "stdout",
     "output_type": "stream",
     "text": [
      "grey\n",
      "castle\n"
     ]
    }
   ],
   "source": []
  },
  {
   "cell_type": "markdown",
   "metadata": {},
   "source": [
    "##### The 'self' Attribute <br>\n",
    "<p>This attribute is required to keep track of specific instance's attributes. Without the self attribute, the program would not know how to reference or keep track of an instance's attributes.</p>"
   ]
  },
  {
   "cell_type": "code",
   "execution_count": null,
   "metadata": {},
   "outputs": [],
   "source": [
    "class Toy():\n",
    "    TYPE = \"Legos\"\n",
    "    \n",
    "    def __init__(self, connect, color, theme_set, studs, shape, choking_hazard, foot_hazard = True):\n",
    "            self.connect = connect\n",
    "            self.color = color\n",
    "            self.theme_set = theme_set\n",
    "            self.studs = studs\n",
    "            self.choking_hazard = choking_hazard\n",
    "            self.shape = shape\n",
    "\n",
    "star_wars = Toy(True, 'grey', 'Star Wars', 'a lot','milleniun falcon', True)\n",
    "harry_potter = Toy(True,'Brown','Harry Potter','alot','castle',True)\n",
    "\n",
    "print(star_wars.color)\n",
    "print(harry_potter.shape)"
   ]
  },
  {
   "cell_type": "markdown",
   "metadata": {},
   "source": [
    "## Class Attributes <br>\n",
    "<p>While variables are inside of a class, they are referred to as attributes and not variables. When someone says 'attribute' you know they're speaking about a class. Attributes can be initialized through the init method, or outside of it.</p>"
   ]
  },
  {
   "cell_type": "markdown",
   "metadata": {},
   "source": [
    "##### Initializing Attributes"
   ]
  },
  {
   "cell_type": "code",
   "execution_count": 21,
   "metadata": {},
   "outputs": [
    {
     "ename": "SyntaxError",
     "evalue": "invalid syntax (Temp/ipykernel_17584/2559230503.py, line 1)",
     "output_type": "error",
     "traceback": [
      "\u001b[1;36m  File \u001b[1;32m\"C:\\Users\\garre\\AppData\\Local\\Temp/ipykernel_17584/2559230503.py\"\u001b[1;36m, line \u001b[1;32m1\u001b[0m\n\u001b[1;33m    The 'self' Attribute\u001b[0m\n\u001b[1;37m        ^\u001b[0m\n\u001b[1;31mSyntaxError\u001b[0m\u001b[1;31m:\u001b[0m invalid syntax\n"
     ]
    }
   ],
   "source": [
    "The 'self' Attribute\n",
    "This attribute is required to keep track of specific instance's attributes. Without the self attribute, the program would not know how to reference or keep track of an instance's attributes.\n",
    "\n",
    "# see above\n",
    "class Toy():\n",
    "    TYPE = \"Legos\"\n",
    "    \n",
    "    def __init__(self, connect, color, theme_set, studs, shape, choking_hazard, foot_hazard = True):\n",
    "            self.connect = connect\n",
    "            self.color = color\n",
    "            self.theme_set = theme_set\n",
    "            self.studs = studs\n",
    "            self.choking_hazard = choking_hazard\n",
    "            self.shape = shape\n",
    "\n"
   ]
  },
  {
   "cell_type": "markdown",
   "metadata": {},
   "source": [
    "##### Accessing Class Attributes"
   ]
  },
  {
   "cell_type": "code",
   "execution_count": 17,
   "metadata": {
    "scrolled": true
   },
   "outputs": [
    {
     "name": "stdout",
     "output_type": "stream",
     "text": [
      "grey\n",
      "castle\n"
     ]
    }
   ],
   "source": [
    "# See Above\n",
    "star_wars = Toy(True, 'grey', 'Star Wars', 'a lot','milleniun falcon', True)\n",
    "harry_potter = Toy(True,'Brown','Harry Potter','alot','castle',True)\n",
    "\n",
    "print(star_wars.color)\n",
    "print(harry_potter.shape)"
   ]
  },
  {
   "cell_type": "markdown",
   "metadata": {},
   "source": [
    "##### Setting Defaults for Attributes"
   ]
  },
  {
   "cell_type": "code",
   "execution_count": 19,
   "metadata": {},
   "outputs": [
    {
     "name": "stdout",
     "output_type": "stream",
     "text": [
      "Blue\n"
     ]
    }
   ],
   "source": [
    "class Car():\n",
    "    ENGINE = '4.7L'\n",
    "    \n",
    "    def __init__(self, wheels):\n",
    "        self.wheels = wheels\n",
    "        self.color = 'Blue'\n",
    "honda = Car(4)\n",
    "hummer = Car(6)\n",
    "\n",
    "print(honda.color)"
   ]
  },
  {
   "cell_type": "markdown",
   "metadata": {},
   "source": [
    "##### Changing Class Attributes <br>\n",
    "<p>Keep in mind there are global class attributes and then there are attributes only available to each class instance which won't effect other classes.</p>"
   ]
  },
  {
   "cell_type": "code",
   "execution_count": 23,
   "metadata": {},
   "outputs": [
    {
     "name": "stdout",
     "output_type": "stream",
     "text": [
      "Before the change: Blue\n",
      "After the change: white\n"
     ]
    }
   ],
   "source": [
    "print(f'Before the change: {honda.color}')\n",
    "honda.color = \"white\"\n",
    "print(f'After the change: {honda.color}')"
   ]
  },
  {
   "cell_type": "code",
   "execution_count": null,
   "metadata": {},
   "outputs": [],
   "source": []
  },
  {
   "cell_type": "markdown",
   "metadata": {},
   "source": [
    "##### In-Class Exercise #2 - Add a doors and seats attribute to your 'Car' class then print out two different instances with different doors and seats"
   ]
  },
  {
   "cell_type": "code",
   "execution_count": 30,
   "metadata": {},
   "outputs": [
    {
     "name": "stdout",
     "output_type": "stream",
     "text": [
      "4\n",
      "6\n"
     ]
    }
   ],
   "source": [
    "class Car():\n",
    "    ENGINE = '4.7L'\n",
    "    \n",
    "    def __init__(self, wheels, door, seats):\n",
    "        self.wheels = wheels\n",
    "        self.color = 'Blue'\n",
    "        self.door = door\n",
    "        self.seats = seats\n",
    "honda = Car(4,2, 2)\n",
    "hummer = Car(2,4,4)\n",
    "\n",
    "print(hummer.seats)\n",
    "hummer.seats = 6\n",
    "print(hummer.seats)"
   ]
  },
  {
   "cell_type": "markdown",
   "metadata": {},
   "source": [
    "## Class Methods <br>\n",
    "<p>While inside of a class, functions are referred to as 'methods'. If you hear someone mention methods, they're speaking about classes. Methods are essentially functions, but only callable on the instances of a class.</p>"
   ]
  },
  {
   "cell_type": "markdown",
   "metadata": {},
   "source": [
    "##### Creating"
   ]
  },
  {
   "cell_type": "code",
   "execution_count": 36,
   "metadata": {},
   "outputs": [],
   "source": [
    "class Bus():\n",
    "    def __init__(self, doors, seats,seats_available,color, bus_driver):\n",
    "        self.doors = doors\n",
    "        self.seats = seats\n",
    "        self.seats_available = seats_available\n",
    "        self.bus_driver = bus_driver\n",
    "        self.color = color\n",
    "    def load_passangers(self):\n",
    "        if self.seats_available <= 0:\n",
    "            print(\"The bus is full. You can't take anymore passangers.\")\n",
    "            if self.seats_available < 0:\n",
    "                print(f\"You left {abs(self.seats_available)} people by the road\")\n",
    "                self.seats_available = 0\n",
    "        else:\n",
    "            passengers = int(input(\"How many passengers are getting on?\"))\n",
    "            self.seats_available -= passangers\n",
    "            print(f\"{passangers} seats have been loaded and there are {self.seats_available} seats available\")\n",
    "    def unload_passangers(self):\n",
    "        if self.seats_available >= self.seats:\n",
    "            print(\"There is no one left to get off the bus!\")\n",
    "            self.seats_available = self.seats\n",
    "        else:\n",
    "            unload = int(input(\"How many passangers are getting off?\"))\n",
    "            self.seats_available += self.seats\n",
    "            if self.seats_available >= self.seats:\n",
    "                self.seats_available = self.seats\n",
    "                print(f\"{unload} passanger have left the bus. There are {self.seats_available} unoccupied seats.\")\n",
    "            print(f\"{unload} passanger have left the bus. There are {self.seats_available} unoccupied seats.\")\n",
    "    def change_driver(self):\n",
    "        change = input(\"Whoe is replacing you?\")\n",
    "        self.bus_driver = change\n",
    "        print(f\"The new bus driver is {self.bus_driver}\")\n",
    "    \n",
    "    \n",
    "    def change_seats(self):\n",
    "        print(f\"There are {self.seats_available} seats available\")\\\n",
    "        \n",
    "    def admire_bus(self):\n",
    "            print(f\"Would ya just look at that {self.color} bus\")\n",
    "garrett_bus = Bus(2,90,45,'yellow','garrett')\n"
   ]
  },
  {
   "cell_type": "markdown",
   "metadata": {},
   "source": [
    "##### Calling"
   ]
  },
  {
   "cell_type": "code",
   "execution_count": 42,
   "metadata": {},
   "outputs": [
    {
     "name": "stdout",
     "output_type": "stream",
     "text": [
      "What would you like to do? Load/Unload/Change Driver/Check Seats/Admire/Quitload\n",
      "How many passengers are getting on?15\n"
     ]
    },
    {
     "ename": "AttributeError",
     "evalue": "'Bus' object has no attribute 'seat_available'",
     "output_type": "error",
     "traceback": [
      "\u001b[1;31m---------------------------------------------------------------------------\u001b[0m",
      "\u001b[1;31mAttributeError\u001b[0m                            Traceback (most recent call last)",
      "\u001b[1;32m~\\AppData\\Local\\Temp/ipykernel_17584/3013425199.py\u001b[0m in \u001b[0;36m<module>\u001b[1;34m\u001b[0m\n\u001b[0;32m      5\u001b[0m         \u001b[1;32mbreak\u001b[0m\u001b[1;33m\u001b[0m\u001b[1;33m\u001b[0m\u001b[0m\n\u001b[0;32m      6\u001b[0m     \u001b[1;32melif\u001b[0m \u001b[0mresponse\u001b[0m\u001b[1;33m.\u001b[0m\u001b[0mlower\u001b[0m\u001b[1;33m(\u001b[0m\u001b[1;33m)\u001b[0m \u001b[1;33m==\u001b[0m \u001b[1;34m\"load\"\u001b[0m\u001b[1;33m:\u001b[0m\u001b[1;33m\u001b[0m\u001b[1;33m\u001b[0m\u001b[0m\n\u001b[1;32m----> 7\u001b[1;33m         \u001b[0mgarrett_bus\u001b[0m\u001b[1;33m.\u001b[0m\u001b[0mload_passangers\u001b[0m\u001b[1;33m(\u001b[0m\u001b[1;33m)\u001b[0m\u001b[1;33m\u001b[0m\u001b[1;33m\u001b[0m\u001b[0m\n\u001b[0m\u001b[0;32m      8\u001b[0m     \u001b[1;32melif\u001b[0m \u001b[0mresponse\u001b[0m\u001b[1;33m.\u001b[0m\u001b[0mlower\u001b[0m\u001b[1;33m(\u001b[0m\u001b[1;33m)\u001b[0m \u001b[1;33m==\u001b[0m \u001b[1;34m\"unload\"\u001b[0m\u001b[1;33m:\u001b[0m\u001b[1;33m\u001b[0m\u001b[1;33m\u001b[0m\u001b[0m\n\u001b[0;32m      9\u001b[0m         \u001b[0mgarrett_bus\u001b[0m\u001b[1;33m.\u001b[0m\u001b[0munload_passanger\u001b[0m\u001b[1;33m(\u001b[0m\u001b[1;33m)\u001b[0m\u001b[1;33m\u001b[0m\u001b[1;33m\u001b[0m\u001b[0m\n",
      "\u001b[1;32m~\\AppData\\Local\\Temp/ipykernel_17584/1290345149.py\u001b[0m in \u001b[0;36mload_passangers\u001b[1;34m(self)\u001b[0m\n\u001b[0;32m     14\u001b[0m         \u001b[1;32melse\u001b[0m\u001b[1;33m:\u001b[0m\u001b[1;33m\u001b[0m\u001b[1;33m\u001b[0m\u001b[0m\n\u001b[0;32m     15\u001b[0m             \u001b[0mpassengers\u001b[0m \u001b[1;33m=\u001b[0m \u001b[0mint\u001b[0m\u001b[1;33m(\u001b[0m\u001b[0minput\u001b[0m\u001b[1;33m(\u001b[0m\u001b[1;34m\"How many passengers are getting on?\"\u001b[0m\u001b[1;33m)\u001b[0m\u001b[1;33m)\u001b[0m\u001b[1;33m\u001b[0m\u001b[1;33m\u001b[0m\u001b[0m\n\u001b[1;32m---> 16\u001b[1;33m             \u001b[0mself\u001b[0m\u001b[1;33m.\u001b[0m\u001b[0mseat_available\u001b[0m \u001b[1;33m-=\u001b[0m \u001b[0mpassangers\u001b[0m\u001b[1;33m\u001b[0m\u001b[1;33m\u001b[0m\u001b[0m\n\u001b[0m\u001b[0;32m     17\u001b[0m             \u001b[0mprint\u001b[0m\u001b[1;33m(\u001b[0m\u001b[1;34mf\"{passangers} seats have been loaded and there are {self.seats_available} seats available\"\u001b[0m\u001b[1;33m)\u001b[0m\u001b[1;33m\u001b[0m\u001b[1;33m\u001b[0m\u001b[0m\n\u001b[0;32m     18\u001b[0m     \u001b[1;32mdef\u001b[0m \u001b[0munload_passangers\u001b[0m\u001b[1;33m(\u001b[0m\u001b[0mself\u001b[0m\u001b[1;33m)\u001b[0m\u001b[1;33m:\u001b[0m\u001b[1;33m\u001b[0m\u001b[1;33m\u001b[0m\u001b[0m\n",
      "\u001b[1;31mAttributeError\u001b[0m: 'Bus' object has no attribute 'seat_available'"
     ]
    }
   ],
   "source": [
    "# See Above\n",
    "while True:\n",
    "    response = input(\"What would you like to do? Load/Unload/Change Driver/Check Seats/Admire/Quit\")\n",
    "    if response.lower() == \"quit\":\n",
    "        break\n",
    "    elif response.lower() == \"load\":\n",
    "        garrett_bus.load_passangers()\n",
    "    elif response.lower() == \"unload\":\n",
    "        garrett_bus.unload_passanger()\n",
    "    elif response.lower() == \"change driver\":\n",
    "        garrett_bus.change_driver()\n",
    "    elif response.lower() == \"check seats\":\n",
    "        garrett_bus.check_seats()\n",
    "    elif response.lower() == \"admire\":\n",
    "        garrett_bus.admire_bus()\n",
    "    else:\n",
    "        print(\"That Is not a valid response! Try again.\")\n",
    "run()"
   ]
  },
  {
   "cell_type": "markdown",
   "metadata": {},
   "source": [
    "##### Modifying an Attribute's Value Through a Method"
   ]
  },
  {
   "cell_type": "code",
   "execution_count": null,
   "metadata": {},
   "outputs": [],
   "source": []
  },
  {
   "cell_type": "markdown",
   "metadata": {},
   "source": [
    "##### Incrementing an Attribute's Value Through a Method"
   ]
  },
  {
   "cell_type": "code",
   "execution_count": null,
   "metadata": {},
   "outputs": [],
   "source": []
  },
  {
   "cell_type": "markdown",
   "metadata": {},
   "source": [
    "##### In-Class Exercise #3 - Add a method that takes in three parameters of year, doors and seats and prints out a formatted print statement with make, model, year, seats, and doors"
   ]
  },
  {
   "cell_type": "code",
   "execution_count": 90,
   "metadata": {},
   "outputs": [
    {
     "name": "stdout",
     "output_type": "stream",
     "text": [
      "This car is from 2002 and is a Ford Explorer Sports Trac and has 5 doors and 4 seats\n"
     ]
    }
   ],
   "source": [
    "# Create class with 2 paramters inside of the __init__ which are make and model\n",
    "\n",
    "# Inside of the Car class create a method that has 4 parameter in total (self,year,door,seats)\n",
    "\n",
    "# Output: This car is from 2019 and is a Ford Expolorer and has 4 doors and 5 seats\n",
    "class Far():\n",
    "    def __init__(self, year, make,seats,doors):\n",
    "        self.year = year\n",
    "        self.make = make\n",
    "        self.seats = seats\n",
    "        self.doors = doors\n",
    "    def printer(self):\n",
    "        print(f\"This car is from {self.year} and is a {self.make} and has {self.doors} doors and {self.seats} seats\")\n",
    "garrett = Far(2002,'Ford Explorer Sports Trac', 4, 5)\n",
    "garrett.printer()"
   ]
  },
  {
   "cell_type": "markdown",
   "metadata": {},
   "source": [
    "## Inheritance <br>\n",
    "<p>You can create a child-parent relationship between two classes by using inheritance. What this allows you to do is have overriding methods, but also inherit traits from the parent class. Think of it as an actual parent and child, the child will inherit the parent's genes, as will the classes in OOP</p>"
   ]
  },
  {
   "cell_type": "markdown",
   "metadata": {},
   "source": [
    "##### Syntax for Inheriting from a Parent Class"
   ]
  },
  {
   "cell_type": "code",
   "execution_count": 76,
   "metadata": {},
   "outputs": [],
   "source": [
    "class Animal():\n",
    "    ACCELERATION = 9.8\n",
    "    \n",
    "    def __init__(self, name, species, legs=4):\n",
    "        self.name = name\n",
    "        self.species = species\n",
    "        self.legs = legs\n",
    "    \n",
    "    # Generic Parent(Animal)Method ----- No overRide\n",
    "    \n",
    "    def make_sound(self):\n",
    "        print(\"reeeeeeeee\")\n",
    "    \n",
    "class Dog(Animal):\n",
    "    SPEED = 15\n",
    "    \n",
    "    def printInfo(self):\n",
    "        print(f\"The dog runs at {SPEED} MPH and accelerates toward the ground at {ACCELERATION} mps\")\n",
    "\n",
    "#creation of grandchild class\n",
    "\n",
    "class Mut(Dog):\n",
    "    color = \"brown and tanish\"\n",
    "    \n",
    "    #Override the animal class __init__ method by way of using dog class\n",
    "    \n",
    "    def __init__(self,name,species,eye_color, legs=4):\n",
    "        Dog.__init__(self,name,species,legs)\n",
    "        self.eye_color = eye_color\n",
    "        \n",
    "    def make_sound(self):\n",
    "        print(\"ruff ruff awo\")\n",
    "        \n",
    "    \n",
    "    "
   ]
  },
  {
   "cell_type": "code",
   "execution_count": 77,
   "metadata": {},
   "outputs": [
    {
     "name": "stdout",
     "output_type": "stream",
     "text": [
      "Sassy\n",
      "reeeeeeeee\n",
      "reeeeeeeee\n",
      "9.8\n",
      "ruff ruff awo\n"
     ]
    }
   ],
   "source": [
    "cat = Animal(\"Sassy\", \"cat\", \"Himalayan Cat\")\n",
    "print(cat.name)\n",
    "dog = Dog(\"Shadow\", \"Golden Retriever\")\n",
    "cat.make_sound()\n",
    "dog.make_sound()\n",
    "print(dog.ACCELERATION)\n",
    "\n",
    "mut = Mut(\"Eyo\",\"chihuahua-terrier mix and maybe beagle\",\"brown\")\n",
    "mut.make_sound()"
   ]
  },
  {
   "cell_type": "markdown",
   "metadata": {},
   "source": [
    "##### The \\__init\\__() Method for a Child Class - super()"
   ]
  },
  {
   "cell_type": "code",
   "execution_count": 80,
   "metadata": {
    "scrolled": true
   },
   "outputs": [
    {
     "name": "stdout",
     "output_type": "stream",
     "text": [
      "Woof\n",
      "15\n"
     ]
    }
   ],
   "source": [
    "class Mut(Dog):\n",
    "    COLOR = \"brown and tan\"\n",
    "    \n",
    "    def __init__(self, name,species,eye_color,legs=4):\n",
    "        super().__init__(name,species,legs)\n",
    "        self.eye_color=eye_color\n",
    "    \n",
    "    def make_sound(self):\n",
    "        print(\"Woof\")\n",
    "\n",
    "czika = Mut('Czika','mini pinscher','black and tan')\n",
    "czika.make_sound()\n",
    "print(czika.SPEED)"
   ]
  },
  {
   "cell_type": "markdown",
   "metadata": {},
   "source": [
    "##### Defining Attributes and Methods for the Child Class"
   ]
  },
  {
   "cell_type": "code",
   "execution_count": null,
   "metadata": {},
   "outputs": [],
   "source": [
    "# See Above"
   ]
  },
  {
   "cell_type": "markdown",
   "metadata": {},
   "source": [
    "##### Method Overriding"
   ]
  },
  {
   "cell_type": "code",
   "execution_count": null,
   "metadata": {},
   "outputs": [],
   "source": [
    "# See Above"
   ]
  },
  {
   "cell_type": "markdown",
   "metadata": {},
   "source": [
    "## Classes as Attributes <br>\n",
    "<p>Classes can also be used as attributes within another class. This is useful in situations where you need to keep variables locally stored, instead of globally stored.</p>"
   ]
  },
  {
   "cell_type": "code",
   "execution_count": 96,
   "metadata": {},
   "outputs": [
    {
     "ename": "TypeError",
     "evalue": "__init__() missing 1 required positional argument: 'doors'",
     "output_type": "error",
     "traceback": [
      "\u001b[1;31m---------------------------------------------------------------------------\u001b[0m",
      "\u001b[1;31mTypeError\u001b[0m                                 Traceback (most recent call last)",
      "\u001b[1;32m~\\AppData\\Local\\Temp/ipykernel_17584/317538518.py\u001b[0m in \u001b[0;36m<module>\u001b[1;34m\u001b[0m\n\u001b[0;32m      5\u001b[0m         \u001b[0mself\u001b[0m\u001b[1;33m.\u001b[0m\u001b[0mcells\u001b[0m \u001b[1;33m=\u001b[0m \u001b[0mcells\u001b[0m\u001b[1;33m\u001b[0m\u001b[1;33m\u001b[0m\u001b[0m\n\u001b[0;32m      6\u001b[0m \u001b[1;33m\u001b[0m\u001b[0m\n\u001b[1;32m----> 7\u001b[1;33m \u001b[1;32mclass\u001b[0m \u001b[0mCar\u001b[0m\u001b[1;33m(\u001b[0m\u001b[1;33m)\u001b[0m\u001b[1;33m:\u001b[0m\u001b[1;33m\u001b[0m\u001b[1;33m\u001b[0m\u001b[0m\n\u001b[0m\u001b[0;32m      8\u001b[0m     \u001b[1;32mdef\u001b[0m \u001b[0m__init__\u001b[0m\u001b[1;33m(\u001b[0m\u001b[0mself\u001b[0m\u001b[1;33m,\u001b[0m \u001b[0myear\u001b[0m\u001b[1;33m,\u001b[0m\u001b[0mmake\u001b[0m\u001b[1;33m,\u001b[0m\u001b[0mmodel\u001b[0m\u001b[1;33m,\u001b[0m\u001b[0mbattery\u001b[0m\u001b[1;33m)\u001b[0m\u001b[1;33m:\u001b[0m\u001b[1;33m\u001b[0m\u001b[1;33m\u001b[0m\u001b[0m\n\u001b[0;32m      9\u001b[0m         \u001b[0mself\u001b[0m\u001b[1;33m.\u001b[0m\u001b[0myear\u001b[0m \u001b[1;33m=\u001b[0m \u001b[0myear\u001b[0m\u001b[1;33m\u001b[0m\u001b[1;33m\u001b[0m\u001b[0m\n",
      "\u001b[1;32m~\\AppData\\Local\\Temp/ipykernel_17584/317538518.py\u001b[0m in \u001b[0;36mCar\u001b[1;34m()\u001b[0m\n\u001b[0;32m     16\u001b[0m \u001b[1;33m\u001b[0m\u001b[0m\n\u001b[0;32m     17\u001b[0m     \u001b[0mbattery\u001b[0m \u001b[1;33m=\u001b[0m \u001b[0mBattery\u001b[0m\u001b[1;33m(\u001b[0m\u001b[1;36m20\u001b[0m\u001b[1;33m)\u001b[0m\u001b[1;33m\u001b[0m\u001b[1;33m\u001b[0m\u001b[0m\n\u001b[1;32m---> 18\u001b[1;33m     \u001b[0mtesla\u001b[0m \u001b[1;33m=\u001b[0m \u001b[0mCar\u001b[0m\u001b[1;33m(\u001b[0m\u001b[1;36m2022\u001b[0m\u001b[1;33m,\u001b[0m\u001b[1;34m'Model X'\u001b[0m\u001b[1;33m,\u001b[0m\u001b[0mbattery\u001b[0m\u001b[1;33m)\u001b[0m\u001b[1;33m\u001b[0m\u001b[1;33m\u001b[0m\u001b[0m\n\u001b[0m\u001b[0;32m     19\u001b[0m \u001b[1;33m\u001b[0m\u001b[0m\n\u001b[0;32m     20\u001b[0m     \u001b[0mtesla\u001b[0m\u001b[1;33m.\u001b[0m\u001b[0mprintInfo\u001b[0m\u001b[1;33m(\u001b[0m\u001b[1;33m)\u001b[0m\u001b[1;33m\u001b[0m\u001b[1;33m\u001b[0m\u001b[0m\n",
      "\u001b[1;31mTypeError\u001b[0m: __init__() missing 1 required positional argument: 'doors'"
     ]
    }
   ],
   "source": [
    "class Battery():\n",
    "    VOLTZ = 7.8\n",
    "    \n",
    "    def __init__(self, cells):\n",
    "        self.cells = cells\n",
    "    \n",
    "class Car():\n",
    "    def __init__(self, year,make,model,battery):\n",
    "        self.year = year\n",
    "        self.make = make\n",
    "        self.model = model\n",
    "        self.battery = battery\n",
    "        \n",
    "    def printInfo(self):\n",
    "        return f\"here is some info, please enjoy: {self,make}, {self.model}, {self.battery.cells}\"\n",
    "    \n",
    "    battery = Battery(20)\n",
    "    tesla = Car(2022,'Model X',battery)\n",
    "    \n",
    "    tesla.printInfo()"
   ]
  },
  {
   "cell_type": "markdown",
   "metadata": {},
   "source": [
    "Create a class that has at least 3 attributes. One must be a list or a dictionary.\n",
    "\n",
    "The class must also have 3 methods, one that adds to the list or dictionary, one that alters an attributes value, and one that does whatever you want it to do.\n",
    "\n"
   ]
  },
  {
   "cell_type": "code",
   "execution_count": 6,
   "metadata": {},
   "outputs": [
    {
     "ename": "TypeError",
     "evalue": "'Super_hero' object is not callable",
     "output_type": "error",
     "traceback": [
      "\u001b[1;31m---------------------------------------------------------------------------\u001b[0m",
      "\u001b[1;31mTypeError\u001b[0m                                 Traceback (most recent call last)",
      "\u001b[1;32m~\\AppData\\Local\\Temp/ipykernel_19472/801333236.py\u001b[0m in \u001b[0;36m<module>\u001b[1;34m\u001b[0m\n\u001b[0;32m     36\u001b[0m \u001b[1;33m\u001b[0m\u001b[0m\n\u001b[0;32m     37\u001b[0m \u001b[0mspider_man\u001b[0m \u001b[1;33m=\u001b[0m \u001b[0mSuper_hero\u001b[0m\u001b[1;33m(\u001b[0m\u001b[1;34m\"Spider-Man\"\u001b[0m\u001b[1;33m,\u001b[0m\u001b[1;33m[\u001b[0m\u001b[1;34m\"shoots webs\"\u001b[0m\u001b[1;33m,\u001b[0m \u001b[1;34m\"reflexes\"\u001b[0m\u001b[1;33m,\u001b[0m \u001b[1;34m\"super strength\"\u001b[0m\u001b[1;33m,\u001b[0m \u001b[1;34m\"spidey sense\"\u001b[0m\u001b[1;33m]\u001b[0m\u001b[1;33m,\u001b[0m \u001b[1;34m\"Peter Parker\"\u001b[0m\u001b[1;33m,\u001b[0m \u001b[1;34m\"Mary Jane\"\u001b[0m\u001b[1;33m)\u001b[0m\u001b[1;33m\u001b[0m\u001b[1;33m\u001b[0m\u001b[0m\n\u001b[1;32m---> 38\u001b[1;33m \u001b[0mprint\u001b[0m\u001b[1;33m(\u001b[0m\u001b[0mspider_man\u001b[0m\u001b[1;33m(\u001b[0m\u001b[1;33m)\u001b[0m\u001b[1;33m)\u001b[0m\u001b[1;33m\u001b[0m\u001b[1;33m\u001b[0m\u001b[0m\n\u001b[0m",
      "\u001b[1;31mTypeError\u001b[0m: 'Super_hero' object is not callable"
     ]
    }
   ],
   "source": [
    "class Super_hero():\n",
    "    \n",
    "    def __init__(self, hero_name, powers, secret_identity, weakness):\n",
    "        self.hero_name = hero_name\n",
    "        self.powers = powers\n",
    "        self.secret_identity = secret_identity\n",
    "        self.weakness = weakness\n",
    "        self.info = {}\n",
    "    \n",
    "    def add_power(self):\n",
    "        new_power = input(\"What powers would you like to have?\").lower().strip()\n",
    "        if new_power not in self.powers:\n",
    "            self.powers.append(new_power)\n",
    "            print(f\"{self.hero_name} can now perform {new_power}!\")\n",
    "    \n",
    "    def abilities(self):\n",
    "        abilities = set(self.powers)\n",
    "        print(f\"\"\"Here are your current powers\n",
    "        {abilities}\"\"\")\n",
    "    \n",
    "    def remove_power(self):\n",
    "        print(f\"Here are you powers:\")\n",
    "        print(self.powers)\n",
    "        removed_power = input(\"Which power have you lost?\").lower().strip()\n",
    "        if removed_power not in self.powers:\n",
    "            print(f\"{removed_power} not in list!\")\n",
    "        else:\n",
    "            self.powers.remove(removed_power)\n",
    "            print(f\"{self.hero_name} has now lost this power\")\n",
    "            \n",
    "    def add_info(self):\n",
    "        bad_guy = input(\"Who is the bad guy?\")\n",
    "        where_bad = input (\"Where is the bad guy?\")\n",
    "        self.info[bad_guy] = where_bad\n",
    "        print(self.info)\n",
    "\n",
    "spider_man = Super_hero(\"Spider-Man\",[\"shoots webs\", \"reflexes\", \"super strength\", \"spidey sense\"], \"Peter Parker\", \"Mary Jane\")\n"
   ]
  },
  {
   "cell_type": "markdown",
   "metadata": {},
   "source": [
    "# Exercises"
   ]
  },
  {
   "cell_type": "markdown",
   "metadata": {},
   "source": [
    "### Exercise 1 - Turn the shopping cart program from yesterday into an object-oriented program\n",
    "\n",
    "The comments in the cell below are there as a guide for thinking about the problem. However, if you feel a different way is best for you and your own thought process, please do what feels best for you by all means."
   ]
  },
  {
   "cell_type": "code",
   "execution_count": 14,
   "metadata": {},
   "outputs": [
    {
     "name": "stdout",
     "output_type": "stream",
     "text": [
      "What would you like to do to your cart?(Add/Remove/View/Quit)add\n",
      "What would you like to add?:apple\n",
      "What would you like to do to your cart?(Add/Remove/View/Quit)add\n",
      "What would you like to add?:apple\n",
      "What would you like to do to your cart?(Add/Remove/View/Quit)add\n",
      "What would you like to add?:pear\n",
      "What would you like to do to your cart?(Add/Remove/View/Quit)view\n",
      "This is your cart ['apple', 'apple', 'pear']\n",
      "What would you like to do to your cart?(Add/Remove/View/Quit)remove\n",
      "What would you like to remove from the list? ['apple', 'apple', 'pear']apple\n",
      "apple has been taken off the cart.\n",
      "What would you like to do to your cart?(Add/Remove/View/Quit)view\n",
      "This is your cart ['apple', 'pear']\n",
      "What would you like to do to your cart?(Add/Remove/View/Quit) w\n",
      "w was not a choice. Try again.\n",
      "What would you like to do to your cart?(Add/Remove/View/Quit)w\n",
      "w was not a choice. Try again.\n",
      "What would you like to do to your cart?(Add/Remove/View/Quit)w\n",
      "w was not a choice. Try again.\n",
      "What would you like to do to your cart?(Add/Remove/View/Quit)   QUIT\n"
     ]
    }
   ],
   "source": [
    "# Create a class called cart that retains items and has methods to add, remove, and show\n",
    "\n",
    "class Cart():\n",
    "    \n",
    "    #Setting cart up\n",
    "    def __init__(self, cart):\n",
    "        self.cart = cart\n",
    "        \n",
    "    #Add Item to cart\n",
    "    def add_cart(self):\n",
    "        newItem = input(\"What would you like to add?:\").lower().strip()\n",
    "        self.cart.append(newItem)\n",
    "        \n",
    "    #Remove Item\n",
    "    def del_item(self):\n",
    "        removeItem = input(f\"What would you like to remove from the list? {self.cart}\").strip().lower()\n",
    "        if removeItem not in self.cart:\n",
    "            print(f\"That item is not in the cart\")\n",
    "        else:\n",
    "            self.cart.remove(removeItem)\n",
    "            print(f\"{removeItem} has been taken off the cart.\")\n",
    "    \n",
    "    #View The cart\n",
    "    def view_cart(self):\n",
    "        print(f\"This is your cart {self.cart}\")\n",
    "\n",
    "#setting up our cart\n",
    "cart = Cart([])      \n",
    "\n",
    "while True:\n",
    "    user_choice = input(\"What would you like to do to your cart?(Add/Remove/View/Quit)\").strip().lower()\n",
    "    if user_choice == \"quit\":\n",
    "        break\n",
    "    elif user_choice == \"add\":\n",
    "        cart.add_cart()\n",
    "    elif user_choice == \"remove\":\n",
    "        cart.del_item()\n",
    "    elif user_choice == \"view\":\n",
    "        cart.view_cart()\n",
    "    else:\n",
    "        print(f\"{user_choice} was not a choice. Try again.\")\n"
   ]
  },
  {
   "cell_type": "markdown",
   "metadata": {},
   "source": [
    "### Exercise 2 - Write a Python class which has two methods get_String and print_String. get_String accept a string from the user and print_String print the string in upper case"
   ]
  },
  {
   "cell_type": "code",
   "execution_count": 20,
   "metadata": {},
   "outputs": [
    {
     "name": "stdout",
     "output_type": "stream",
     "text": [
      "Enter a string     Hi my nafh IS Gareretryu               \n",
      "HI MY NAFH IS GARERETRYU\n"
     ]
    }
   ],
   "source": [
    "class Print():\n",
    "    \n",
    "    def __init__(self, string):\n",
    "        self.string = string\n",
    "    \n",
    "    def get_string(self):\n",
    "        self.string = input(\"Enter a string\")\n",
    "    def printer(self):\n",
    "        print(self.string.strip().upper())\n",
    "string = Print('hi')\n",
    "\n",
    "def printer():\n",
    "    string.get_string()\n",
    "    string.printer()\n",
    "printer()"
   ]
  },
  {
   "cell_type": "code",
   "execution_count": null,
   "metadata": {},
   "outputs": [],
   "source": []
  }
 ],
 "metadata": {
  "kernelspec": {
   "display_name": "Python 3 (ipykernel)",
   "language": "python",
   "name": "python3"
  },
  "language_info": {
   "codemirror_mode": {
    "name": "ipython",
    "version": 3
   },
   "file_extension": ".py",
   "mimetype": "text/x-python",
   "name": "python",
   "nbconvert_exporter": "python",
   "pygments_lexer": "ipython3",
   "version": "3.9.7"
  }
 },
 "nbformat": 4,
 "nbformat_minor": 2
}
